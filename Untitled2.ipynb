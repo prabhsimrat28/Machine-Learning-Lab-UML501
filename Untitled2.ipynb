{
 "cells": [
  {
   "cell_type": "code",
   "execution_count": 1,
   "id": "e56f81c3",
   "metadata": {},
   "outputs": [],
   "source": [
    "import pandas as pd\n",
    "import numpy as np"
   ]
  },
  {
   "cell_type": "code",
   "execution_count": 29,
   "id": "bc07a0c7",
   "metadata": {},
   "outputs": [
    {
     "name": "stdout",
     "output_type": "stream",
     "text": [
      "0        True\n",
      "1        True\n",
      "2        True\n",
      "3        True\n",
      "4        True\n",
      "         ... \n",
      "18356    True\n",
      "18357    True\n",
      "18358    True\n",
      "18359    True\n",
      "18360    True\n",
      "Name: Title, Length: 18361, dtype: bool\n",
      "0        NaN\n",
      "1        NaN\n",
      "2        NaN\n",
      "3        NaN\n",
      "4        NaN\n",
      "        ... \n",
      "18356    NaN\n",
      "18357    NaN\n",
      "18358    NaN\n",
      "18359    NaN\n",
      "18360    NaN\n",
      "Name: Title, Length: 18361, dtype: object\n"
     ]
    }
   ],
   "source": [
    "dataset = pd.read_csv('C:/Users/csed.DESKTOP-RA25B6G/Desktop/archive/AWCustomers.csv')\n",
    "#df1=dataset.copy()\n",
    "#df1 = df1.fillna(np.average(dataset.HomeOwnerFlag))\n",
    "#df1 = df1.fillna(np.average(dataset.NumberCarsOwned))\n",
    "\n",
    "#df1 = df1.fillna(np.average(dataset.NumberChildrenAtHome))\n",
    "\n",
    "#df1 = df1.fillna(np.average(dataset.TotalChildren))\n",
    "\n",
    "#df1 = df1.fillna(np.average(dataset.YearlyIncome))\n",
    "\n",
    "x = dataset.iloc[:, [0, 8, 13, 16, 17, 18, 19, 20, 21, 22]]\n",
    "y=dataset.iloc[:,1]\n",
    "print(pd.isna(y))\n",
    "#y.dropna()\n",
    "y.fillna(method='bfill')\n",
    "print(y)"
   ]
  },
  {
   "cell_type": "code",
   "execution_count": null,
   "id": "a4d5f541",
   "metadata": {},
   "outputs": [],
   "source": []
  },
  {
   "cell_type": "code",
   "execution_count": null,
   "id": "ca9df307",
   "metadata": {},
   "outputs": [],
   "source": []
  }
 ],
 "metadata": {
  "kernelspec": {
   "display_name": "Python 3 (ipykernel)",
   "language": "python",
   "name": "python3"
  },
  "language_info": {
   "codemirror_mode": {
    "name": "ipython",
    "version": 3
   },
   "file_extension": ".py",
   "mimetype": "text/x-python",
   "name": "python",
   "nbconvert_exporter": "python",
   "pygments_lexer": "ipython3",
   "version": "3.9.12"
  }
 },
 "nbformat": 4,
 "nbformat_minor": 5
}
