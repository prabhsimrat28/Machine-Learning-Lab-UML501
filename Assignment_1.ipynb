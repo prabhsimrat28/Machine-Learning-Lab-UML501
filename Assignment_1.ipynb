{
 "cells": [
  {
   "cell_type": "code",
   "execution_count": 8,
   "id": "ee3832c4",
   "metadata": {},
   "outputs": [],
   "source": [
    "import numpy as np\n",
    "import pandas as pd\n",
    "from itertools import product"
   ]
  },
  {
   "cell_type": "code",
   "execution_count": null,
   "id": "cb62736a",
   "metadata": {},
   "outputs": [],
   "source": [
    "arr=np.array([1,2,3,4,5])\n",
    "rev=arr[::-1]\n",
    "print(\"Reversed array is \",rev)\n",
    "arr1=np.array([[1,2,3],[2,4,5],[1,2,3]])\n",
    "flat=arr1.flatten()\n",
    "print(flat)"
   ]
  },
  {
   "cell_type": "code",
   "execution_count": null,
   "id": "2b810a2f",
   "metadata": {},
   "outputs": [],
   "source": [
    "ar1=np.array([[1,2],[3,4]])\n",
    "ar2=np.array([[1,2],[3,4]])\n",
    "if ar1==ar2:\n",
    "    print('Same')"
   ]
  },
  {
   "cell_type": "code",
   "execution_count": null,
   "id": "397e3da1",
   "metadata": {},
   "outputs": [],
   "source": [
    "x = np.array([1,2,3,4,5,1,2,1,1,1])\n",
    "y = np.array([1, 1, 1, 2, 3, 4, 2, 4, 3, 3, ])\n",
    "modex=np.bincount(x).argmax()\n",
    "print(\"Mode of array x \",x,\"is\",modex)\n",
    "modey=np.bincount(y).argmax()\n",
    "print(\"Mode of array x \",y,\"is\",modey)"
   ]
  },
  {
   "cell_type": "code",
   "execution_count": null,
   "id": "16de1e94",
   "metadata": {},
   "outputs": [],
   "source": [
    "gfg=np.array([[4,1,9],[12,3,1],[4,5,6]])\n",
    "print(np.sum(gfg))\n",
    "print(np.sum(gfg,axis=0))\n",
    "print(np.sum(gfg,axis=1))"
   ]
  },
  {
   "cell_type": "code",
   "execution_count": null,
   "id": "3d2372c4",
   "metadata": {},
   "outputs": [],
   "source": [
    "n_array=np.array([[55,25,15],[30,44,2],[11,45,77]])\n",
    "print(\"Sum of diagonal elemnst is \", np.trace(n_array))\n",
    "eigenval,eigenvec=np.linalg.eig(n_array)\n",
    "print(\"Eigenvalues\",eigenval)\n",
    "print(\"Eigenvalues\",eigenvec)\n",
    "print(\"Inverse is \",np.linalg.inv(n_array))\n",
    "print(\"determinant is \",mp.linalg.det(n_array))"
   ]
  },
  {
   "cell_type": "code",
   "execution_count": 3,
   "id": "8d416ef1",
   "metadata": {},
   "outputs": [
    {
     "name": "stdout",
     "output_type": "stream",
     "text": [
      "[[ 4 10]\n",
      " [18 28]]\n",
      "[[0.5 0.5 0.5 0.5]\n",
      " [0.5 0.5 0.5 0.5]\n",
      " [0.5 0.5 0.5 0.5]\n",
      " [0.5 0.5 0.5 0.5]]\n"
     ]
    }
   ],
   "source": [
    "p=np.array([[1,2],[3,4]])\n",
    "q=np.array([[4,5],[6,7]])\n",
    "print(p*q)\n",
    "print(np.cov(p,q))"
   ]
  },
  {
   "cell_type": "code",
   "execution_count": 5,
   "id": "8c1daf6f",
   "metadata": {},
   "outputs": [
    {
     "ename": "ValueError",
     "evalue": "operands could not be broadcast together with shapes (3,2) (2,3) ",
     "output_type": "error",
     "traceback": [
      "\u001b[1;31m---------------------------------------------------------------------------\u001b[0m",
      "\u001b[1;31mValueError\u001b[0m                                Traceback (most recent call last)",
      "Input \u001b[1;32mIn [5]\u001b[0m, in \u001b[0;36m<cell line: 3>\u001b[1;34m()\u001b[0m\n\u001b[0;32m      1\u001b[0m a\u001b[38;5;241m=\u001b[39mnp\u001b[38;5;241m.\u001b[39marray([[\u001b[38;5;241m1\u001b[39m,\u001b[38;5;241m2\u001b[39m],[\u001b[38;5;241m2\u001b[39m,\u001b[38;5;241m3\u001b[39m],[\u001b[38;5;241m4\u001b[39m,\u001b[38;5;241m5\u001b[39m]])\n\u001b[0;32m      2\u001b[0m b\u001b[38;5;241m=\u001b[39mnp\u001b[38;5;241m.\u001b[39marray([[\u001b[38;5;241m4\u001b[39m,\u001b[38;5;241m5\u001b[39m,\u001b[38;5;241m1\u001b[39m],[\u001b[38;5;241m6\u001b[39m,\u001b[38;5;241m7\u001b[39m,\u001b[38;5;241m2\u001b[39m]])\n\u001b[1;32m----> 3\u001b[0m \u001b[38;5;28mprint\u001b[39m(np\u001b[38;5;241m.\u001b[39mdot(\u001b[43ma\u001b[49m\u001b[38;5;241;43m*\u001b[39;49m\u001b[43mb\u001b[49m))\n\u001b[0;32m      4\u001b[0m \u001b[38;5;28mprint\u001b[39m(np\u001b[38;5;241m.\u001b[39mcov(a,b))\n",
      "\u001b[1;31mValueError\u001b[0m: operands could not be broadcast together with shapes (3,2) (2,3) "
     ]
    }
   ],
   "source": [
    "a=np.array([[1,2],[2,3],[4,5]])\n",
    "b=np.array([[4,5,1],[6,7,2]])\n",
    "print(np.dot(a*b))\n",
    "print(np.cov(a,b))"
   ]
  },
  {
   "cell_type": "code",
   "execution_count": 9,
   "id": "3d3a610b",
   "metadata": {},
   "outputs": [
    {
     "name": "stdout",
     "output_type": "stream",
     "text": [
      "[[17 52]\n",
      " [13 62]]\n",
      "[[ 2 10  0 10 20  6]\n",
      " [ 3 15  0 15 30  9]\n",
      " [ 4 20  0 20 40 12]\n",
      " [ 3 15  0 15 30  9]\n",
      " [ 2 10  0 10 20  6]\n",
      " [ 9 45  0 45 90 27]]\n",
      "[[[ 2  3  4]\n",
      "  [ 1  5  0]]\n",
      "\n",
      " [[ 2  3  4]\n",
      "  [ 5 10  3]]\n",
      "\n",
      " [[ 3  2  9]\n",
      "  [ 1  5  0]]\n",
      "\n",
      " [[ 3  2  9]\n",
      "  [ 5 10  3]]]\n"
     ]
    }
   ],
   "source": [
    "x=np.array([[2,3,4],[3,2,9]])\n",
    "y=np.array([[1,5,0],[5,10,3]])\n",
    "print(np.inner(x,y))\n",
    "print(np.outer(x,y))\n",
    "cartesian=np.array(list(product(x,y)))\n",
    "print(cartesian)"
   ]
  },
  {
   "cell_type": "code",
   "execution_count": null,
   "id": "c8af896f",
   "metadata": {},
   "outputs": [],
   "source": [
    "array2=np.array([[1,-2,3],[-4,5,-6]])\n",
    "flat2=array2.flatten()\n",
    "print(\"Mean :\",np.mean(flat2),\"Median :\",np.median(flat2),\"SD :\",np.std(flat2))\n",
    "print(\"For column\",np.percentile(array2,[25,50,75],axis=0))\n",
    "print(\"For row\",np.percentile(array2,[25,50,75],axis=1))\n",
    "print(abs(array2))"
   ]
  },
  {
   "cell_type": "code",
   "execution_count": null,
   "id": "bdaad214",
   "metadata": {},
   "outputs": [],
   "source": [
    "a=np.array([-1.8,-1.6,-0.5,0.5,1.6,1.8,3])\n",
    "print(\"Ceil\",np.ceil(a))\n",
    "print(\"Ceil\",np.floor(a))\n",
    "print(\"Ceil\",np.trunc(a))\n",
    "print(\"Ceil\",np.round(a))"
   ]
  },
  {
   "cell_type": "code",
   "execution_count": null,
   "id": "a5a1a9d5",
   "metadata": {},
   "outputs": [],
   "source": [
    "array3=np.array([10,52,62,16,16,54,453])\n",
    "print(np.sort(array3))\n",
    "print(array3.head(4))\n",
    "print(array3.tail(5))\n"
   ]
  },
  {
   "cell_type": "code",
   "execution_count": null,
   "id": "d37904ee",
   "metadata": {},
   "outputs": [],
   "source": [
    "array3=np.array([1,1.2,2.2,2,3,2])\n",
    "integer=array3[array3==array3.astype(int)]\n",
    "floats=array3[array3==array3.astype(float)]\n",
    "print(intger)\n",
    "print(floats)"
   ]
  },
  {
   "cell_type": "code",
   "execution_count": null,
   "id": "ccc3e56e",
   "metadata": {},
   "outputs": [],
   "source": [
    "import cv2\n",
    "image=cv2.imread(\"\")\n",
    "image_rgb=cv2.cvtColor(image,cv2.COLOR_BGR2RGB)\n",
    "print(image_rgb)"
   ]
  }
 ],
 "metadata": {
  "kernelspec": {
   "display_name": "Python 3 (ipykernel)",
   "language": "python",
   "name": "python3"
  },
  "language_info": {
   "codemirror_mode": {
    "name": "ipython",
    "version": 3
   },
   "file_extension": ".py",
   "mimetype": "text/x-python",
   "name": "python",
   "nbconvert_exporter": "python",
   "pygments_lexer": "ipython3",
   "version": "3.9.12"
  }
 },
 "nbformat": 4,
 "nbformat_minor": 5
}
