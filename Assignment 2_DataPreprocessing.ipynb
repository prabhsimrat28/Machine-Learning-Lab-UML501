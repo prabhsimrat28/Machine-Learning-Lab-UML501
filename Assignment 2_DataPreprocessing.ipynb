{
 "cells": [
  {
   "cell_type": "code",
   "execution_count": 1,
   "id": "8ba47238-74fa-4504-92b4-d5fa13593c20",
   "metadata": {},
   "outputs": [],
   "source": [
    "import pandas as pd\n",
    "import numpy as np"
   ]
  },
  {
   "cell_type": "code",
   "execution_count": 2,
   "id": "b9584dd2-7944-4510-896d-2c000d11d33f",
   "metadata": {},
   "outputs": [
    {
     "name": "stdout",
     "output_type": "stream",
     "text": [
      "[[21173 'Australia' 'M' ... 0 1 81916]\n",
      " [13249 'Canada' 'M' ... 1 2 81076]\n",
      " [29350 'United States' 'F' ... 0 0 86387]\n",
      " ...\n",
      " [12160 'United States' 'F' ... 0 0 51859]\n",
      " [14353 'Canada' 'F' ... 0 0 87177]\n",
      " [16676 'United States' 'F' ... 0 0 136856]]\n"
     ]
    }
   ],
   "source": [
    "#Q1\n",
    "dataset = pd.read_csv('C:/Users/Prabhsimrat Singh/Desktop/MLAI/S01 - Machine-Learning-A-Z-Codes-Datasets/archive/AWCustomers.csv')\n",
    "#take CustomerID,Country,Gender,Marital status,homeowner flag,numbercarsowned,numberchildrenathome,totalchildren,yearlyincome\n",
    "x = dataset.iloc[:, [0, 10,16, 17, 18, 19, 20, 21, 22]].values\n",
    "print(x)"
   ]
  },
  {
   "cell_type": "code",
   "execution_count": 3,
   "id": "02039ae7-c854-4330-8ab7-e4c7891ea27a",
   "metadata": {},
   "outputs": [],
   "source": [
    "#Q2. A\n",
    "from sklearn.impute import SimpleImputer\n",
    "imputer = SimpleImputer(missing_values=np.nan, strategy='mean')\n",
    "x[:, -4:] = imputer.fit_transform(x[:, -4:])\n",
    "# replace any null values in these columns with avergae: numbercarsowned,numberchildrenathome,totalchildren,yearlyincome"
   ]
  },
  {
   "cell_type": "code",
   "execution_count": 6,
   "id": "19ff5030-6bac-4696-9e16-3be911dfffb2",
   "metadata": {},
   "outputs": [
    {
     "name": "stdout",
     "output_type": "stream",
     "text": [
      "[[21173 'Australia' 'M' ... 0.0 1.0 81916.0]\n",
      " [13249 'Canada' 'M' ... 1.0 2.0 81076.0]\n",
      " [29350 'United States' 'F' ... 0.0 0.0 86387.0]\n",
      " ...\n",
      " [12160 'United States' 'F' ... 0.0 0.0 51859.0]\n",
      " [14353 'Canada' 'F' ... 0.0 0.0 87177.0]\n",
      " [16676 'United States' 'F' ... 0.0 0.0 136856.0]]\n"
     ]
    }
   ],
   "source": [
    "print(x)"
   ]
  },
  {
   "cell_type": "code",
   "execution_count": 7,
   "id": "92f4ed0f-d033-4ffe-9364-51f33ce0387a",
   "metadata": {},
   "outputs": [],
   "source": [
    "#Q2. E\n",
    "from sklearn.compose import ColumnTransformer\n",
    "from sklearn.preprocessing import OneHotEncoder\n",
    "import numpy as np\n",
    "\n",
    "\n",
    "#Country,Gender,Marital status,homeowner flag are categorivcal variables\n",
    "ct = ColumnTransformer(\n",
    "    transformers=[('encoder', OneHotEncoder(sparse_output=False), [1, 2, 3,4])],\n",
    "    remainder='passthrough'\n",
    ")\n",
    "\n",
    "x_transformed = ct.fit_transform(x)  # returns dense array\n",
    "\n",
    "#View as a DataFrame so it's easier to read\n",
    "df_x = pd.DataFrame(x_transformed)\n",
    "#print(x_transformed)"
   ]
  },
  {
   "cell_type": "code",
   "execution_count": 19,
   "id": "c9d64925-d755-4e16-9b90-9f3a24e0edbc",
   "metadata": {},
   "outputs": [
    {
     "name": "stdout",
     "output_type": "stream",
     "text": [
      "        0    1    2    3    4    5    6    7    8    9    10   11     12   13  \\\n",
      "0      1.0  0.0  0.0  0.0  0.0  0.0  0.0  1.0  1.0  0.0  0.0  1.0  21173  3.0   \n",
      "1      0.0  1.0  0.0  0.0  0.0  0.0  0.0  1.0  1.0  0.0  0.0  1.0  13249  2.0   \n",
      "2      0.0  0.0  0.0  0.0  0.0  1.0  1.0  0.0  0.0  1.0  1.0  0.0  29350  3.0   \n",
      "3      0.0  0.0  0.0  0.0  1.0  0.0  0.0  1.0  1.0  0.0  0.0  1.0  13503  2.0   \n",
      "4      0.0  0.0  0.0  1.0  0.0  0.0  0.0  1.0  0.0  1.0  0.0  1.0  22803  1.0   \n",
      "...    ...  ...  ...  ...  ...  ...  ...  ...  ...  ...  ...  ...    ...  ...   \n",
      "18356  0.0  0.0  0.0  0.0  0.0  1.0  1.0  0.0  1.0  0.0  1.0  0.0  25414  1.0   \n",
      "18357  1.0  0.0  0.0  0.0  0.0  0.0  1.0  0.0  0.0  1.0  1.0  0.0  11459  2.0   \n",
      "18358  0.0  0.0  0.0  0.0  0.0  1.0  1.0  0.0  0.0  1.0  1.0  0.0  12160  2.0   \n",
      "18359  0.0  1.0  0.0  0.0  0.0  0.0  1.0  0.0  0.0  1.0  1.0  0.0  14353  0.0   \n",
      "18360  0.0  0.0  0.0  0.0  0.0  1.0  1.0  0.0  1.0  0.0  0.0  1.0  16676  2.0   \n",
      "\n",
      "        14   15        16  \n",
      "0      0.0  1.0   81916.0  \n",
      "1      1.0  2.0   81076.0  \n",
      "2      0.0  0.0   86387.0  \n",
      "3      1.0  2.0   61481.0  \n",
      "4      0.0  0.0   51804.0  \n",
      "...    ...  ...       ...  \n",
      "18356  0.0  2.0   52953.0  \n",
      "18357  0.0  0.0   60992.0  \n",
      "18358  0.0  0.0   51859.0  \n",
      "18359  0.0  0.0   87177.0  \n",
      "18360  0.0  0.0  136856.0  \n",
      "\n",
      "[18361 rows x 17 columns]\n"
     ]
    }
   ],
   "source": [
    "print(df_x)"
   ]
  },
  {
   "cell_type": "code",
   "execution_count": 11,
   "id": "8c86b809-0fac-4f3b-a02d-63a12e477e18",
   "metadata": {},
   "outputs": [
    {
     "name": "stdout",
     "output_type": "stream",
     "text": [
      "[[3.0 0.0 1.0 81916.0]\n",
      " [2.0 1.0 2.0 81076.0]\n",
      " [3.0 0.0 0.0 86387.0]\n",
      " ...\n",
      " [2.0 0.0 0.0 51859.0]\n",
      " [0.0 0.0 0.0 87177.0]\n",
      " [2.0 0.0 0.0 136856.0]]\n"
     ]
    }
   ],
   "source": [
    "print(x[:,-4:])"
   ]
  },
  {
   "cell_type": "code",
   "execution_count": 13,
   "id": "cb2f2d04-9b65-434a-a2f2-21f7d2765e91",
   "metadata": {},
   "outputs": [],
   "source": [
    "#Q2. D\n",
    "from sklearn.preprocessing import StandardScaler\n",
    "sc=StandardScaler()\n",
    "x[:,-4:]=sc.fit_transform(x[:,-4:])"
   ]
  },
  {
   "cell_type": "code",
   "execution_count": 15,
   "id": "f2bfe948-0417-4d66-a667-145cb0eb8e5f",
   "metadata": {},
   "outputs": [
    {
     "name": "stdout",
     "output_type": "stream",
     "text": [
      "[[1.892524165060669 -0.594371334523968 0.16134171317008306\n",
      "  0.29855522291351505]\n",
      " [0.7983890791108927 1.1632791845925685 1.2397527781558477\n",
      "  0.2711804434150313]\n",
      " [1.892524165060669 -0.594371334523968 -0.9170693518156816\n",
      "  0.4442607456965164]\n",
      " ...\n",
      " [0.7983890791108927 -0.594371334523968 -0.9170693518156816\n",
      "  -0.6809730477840181]\n",
      " [-1.3898810927886598 -0.594371334523968 -0.9170693518156816\n",
      "  0.47000607403437616]\n",
      " [0.7983890791108927 -0.594371334523968 -0.9170693518156816\n",
      "  2.0889961582072063]]\n"
     ]
    }
   ],
   "source": [
    "print(x[:,-4:])"
   ]
  },
  {
   "cell_type": "code",
   "execution_count": 29,
   "id": "20fb0fbf-2351-45ad-ad7a-845b65de113f",
   "metadata": {},
   "outputs": [],
   "source": [
    "#Q2. C\n",
    "test = dataset.iloc[:, [0, 10,16, 17, 18, 19, 20, 21, 22]].values\n",
    "df_test = pd.DataFrame(test)\n",
    "col_name = df_test.columns[1]\n",
    "\n",
    "\n",
    "# Get value counts\n",
    "city_counts = df_test[col_name].value_counts()\n",
    "\n",
    "# Keep top N cities, rest as 'Other'\n",
    "top_N = 3\n",
    "top_cities = city_counts.nlargest(top_N).index\n",
    "\n",
    "df_test[col_name] = df_test[col_name].apply(lambda x: x if x in top_cities else \"Other\")"
   ]
  },
  {
   "cell_type": "code",
   "execution_count": 33,
   "id": "5f69b12b-3dbc-4ee4-80ab-8a69ecff4c06",
   "metadata": {},
   "outputs": [
    {
     "name": "stdout",
     "output_type": "stream",
     "text": [
      "           0               1  2  3  4  5  6  7       8\n",
      "0      21173       Australia  M  M  1  3  0  1   81916\n",
      "1      13249           Other  M  M  1  2  1  2   81076\n",
      "2      29350   United States  F  S  0  3  0  0   86387\n",
      "3      13503  United Kingdom  M  M  1  2  1  2   61481\n",
      "4      22803           Other  M  S  1  1  0  0   51804\n",
      "...      ...             ... .. .. .. .. .. ..     ...\n",
      "18356  25414   United States  F  M  0  1  0  2   52953\n",
      "18357  11459       Australia  F  S  0  2  0  0   60992\n",
      "18358  12160   United States  F  S  0  2  0  0   51859\n",
      "18359  14353           Other  F  S  0  0  0  0   87177\n",
      "18360  16676   United States  F  M  1  2  0  0  136856\n",
      "\n",
      "[18361 rows x 9 columns]\n"
     ]
    }
   ],
   "source": [
    "print(df_test)"
   ]
  },
  {
   "cell_type": "code",
   "execution_count": 35,
   "id": "02d23426-28e6-4d7d-94d6-93a46e9a2366",
   "metadata": {},
   "outputs": [
    {
     "name": "stdout",
     "output_type": "stream",
     "text": [
      "Simple Matching Coefficient: 0.5882352941176471\n",
      "Jaccard Similarity: 0.42857142857142855\n",
      "Cosine Similarity (standardized numeric): 0.2881711261100598\n"
     ]
    }
   ],
   "source": [
    "# Pick two objects\n",
    "obj1_cat = x_transformed[0]   # one-hot encoded categorical part\n",
    "obj2_cat = x_transformed[1]\n",
    "\n",
    "obj1_num = x[0, -4:]  # standardized numerical part (last 4 cols)\n",
    "obj2_num = x[1, -4:]\n",
    "\n",
    "# --- Simple Matching (on categorical part) ---\n",
    "def simple_matching(x, y):\n",
    "    matches = np.sum(x == y)\n",
    "    return matches / len(x)\n",
    "\n",
    "smc = simple_matching(obj1_cat, obj2_cat)\n",
    "\n",
    "# --- Jaccard (on categorical part) ---\n",
    "def jaccard_similarity(x, y):\n",
    "    intersection = np.sum((x == 1) & (y == 1))\n",
    "    union = np.sum((x == 1) | (y == 1))\n",
    "    return intersection / union if union != 0 else 0\n",
    "\n",
    "jacc = jaccard_similarity(obj1_cat, obj2_cat)\n",
    "\n",
    "# --- Cosine (on standardized numerical part) ---\n",
    "from sklearn.metrics.pairwise import cosine_similarity\n",
    "cos_sim = cosine_similarity([obj1_num], [obj2_num])[0][0]\n",
    "\n",
    "print(\"Simple Matching Coefficient:\", smc)\n",
    "print(\"Jaccard Similarity:\", jacc)\n",
    "print(\"Cosine Similarity (standardized numeric):\", cos_sim)\n"
   ]
  },
  {
   "cell_type": "code",
   "execution_count": null,
   "id": "6e2f6a04-fcdf-491d-8262-327c20dbd86a",
   "metadata": {},
   "outputs": [],
   "source": []
  }
 ],
 "metadata": {
  "kernelspec": {
   "display_name": "Python [conda env:base] *",
   "language": "python",
   "name": "conda-base-py"
  },
  "language_info": {
   "codemirror_mode": {
    "name": "ipython",
    "version": 3
   },
   "file_extension": ".py",
   "mimetype": "text/x-python",
   "name": "python",
   "nbconvert_exporter": "python",
   "pygments_lexer": "ipython3",
   "version": "3.12.7"
  }
 },
 "nbformat": 4,
 "nbformat_minor": 5
}
